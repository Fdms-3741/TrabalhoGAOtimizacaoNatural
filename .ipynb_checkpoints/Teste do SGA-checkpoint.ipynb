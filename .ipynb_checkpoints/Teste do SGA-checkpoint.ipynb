{
 "cells": [
  {
   "cell_type": "markdown",
   "id": "e8d42b89-a283-46f6-be17-02243da1eae7",
   "metadata": {},
   "source": [
    "# Resultados gerais"
   ]
  },
  {
   "cell_type": "code",
   "execution_count": 1,
   "id": "1c45e45e-b5a6-45fa-8a0e-9b11c51a3af4",
   "metadata": {},
   "outputs": [],
   "source": [
    "import sqlite3\n",
    "import pandas as pd\n",
    "\n",
    "dbconn = sqlite3.connect(\"TaxasMutacao.sqlite\")"
   ]
  },
  {
   "cell_type": "code",
   "execution_count": 2,
   "id": "f1e3670a-6bfa-4c93-8b08-6ad753928850",
   "metadata": {},
   "outputs": [],
   "source": [
    "a = pd.read_sql(\"SELECT * FROM resultados\",dbconn)\n",
    "del a['index']"
   ]
  },
  {
   "cell_type": "code",
   "execution_count": 3,
   "id": "65ec5bfb-de4d-41fe-a371-5350d03484d2",
   "metadata": {},
   "outputs": [],
   "source": [
    "a = a[a['N'] == 1000]"
   ]
  },
  {
   "cell_type": "code",
   "execution_count": 4,
   "id": "4bba7aa0-3ecb-400b-92f4-e5c742f63b95",
   "metadata": {},
   "outputs": [],
   "source": [
    "a = a[a['P'] == 11]"
   ]
  },
  {
   "cell_type": "code",
   "execution_count": 5,
   "id": "3f189086-56c4-4d35-9ee2-5cac84427723",
   "metadata": {},
   "outputs": [
    {
     "data": {
      "text/plain": [
       "mu    cxpb  mupb  muidxpb\n",
       "300   0.3   0.7   0.3        10\n",
       "      0.7   0.3   0.3         9\n",
       "100   0.3   0.3   0.3         7\n",
       "300   0.7   0.7   0.3         6\n",
       "100   0.3   0.7   0.3         4\n",
       "      0.7   0.3   0.3         2\n",
       "            0.7   0.3         2\n",
       "300   0.3   0.3   0.3         2\n",
       "1000  0.3   0.3   0.3         0\n",
       "Name: Sucesso, dtype: int64"
      ]
     },
     "execution_count": 5,
     "metadata": {},
     "output_type": "execute_result"
    }
   ],
   "source": [
    "# Taxas de sucesso\n",
    "a.groupby(['mu','cxpb','mupb','muidxpb'])['Sucesso'].sum().sort_values(ascending=False)"
   ]
  },
  {
   "cell_type": "code",
   "execution_count": 6,
   "id": "60e8ad4f-46b8-428a-8f6c-b0e71b90d13f",
   "metadata": {},
   "outputs": [
    {
     "data": {
      "text/html": [
       "<div>\n",
       "<style scoped>\n",
       "    .dataframe tbody tr th:only-of-type {\n",
       "        vertical-align: middle;\n",
       "    }\n",
       "\n",
       "    .dataframe tbody tr th {\n",
       "        vertical-align: top;\n",
       "    }\n",
       "\n",
       "    .dataframe thead th {\n",
       "        text-align: right;\n",
       "    }\n",
       "</style>\n",
       "<table border=\"1\" class=\"dataframe\">\n",
       "  <thead>\n",
       "    <tr style=\"text-align: right;\">\n",
       "      <th></th>\n",
       "      <th></th>\n",
       "      <th></th>\n",
       "      <th></th>\n",
       "      <th>count</th>\n",
       "      <th>mean</th>\n",
       "      <th>std</th>\n",
       "      <th>min</th>\n",
       "      <th>25%</th>\n",
       "      <th>50%</th>\n",
       "      <th>75%</th>\n",
       "      <th>max</th>\n",
       "    </tr>\n",
       "    <tr>\n",
       "      <th>mu</th>\n",
       "      <th>cxpb</th>\n",
       "      <th>mupb</th>\n",
       "      <th>muidxpb</th>\n",
       "      <th></th>\n",
       "      <th></th>\n",
       "      <th></th>\n",
       "      <th></th>\n",
       "      <th></th>\n",
       "      <th></th>\n",
       "      <th></th>\n",
       "      <th></th>\n",
       "    </tr>\n",
       "  </thead>\n",
       "  <tbody>\n",
       "    <tr>\n",
       "      <th rowspan=\"4\" valign=\"top\">100</th>\n",
       "      <th rowspan=\"2\" valign=\"top\">0.3</th>\n",
       "      <th>0.3</th>\n",
       "      <th>0.3</th>\n",
       "      <td>7.0</td>\n",
       "      <td>365.142857</td>\n",
       "      <td>272.900732</td>\n",
       "      <td>37.0</td>\n",
       "      <td>169.00</td>\n",
       "      <td>313.0</td>\n",
       "      <td>537.50</td>\n",
       "      <td>793.0</td>\n",
       "    </tr>\n",
       "    <tr>\n",
       "      <th>0.7</th>\n",
       "      <th>0.3</th>\n",
       "      <td>4.0</td>\n",
       "      <td>203.750000</td>\n",
       "      <td>70.636983</td>\n",
       "      <td>136.0</td>\n",
       "      <td>153.25</td>\n",
       "      <td>193.5</td>\n",
       "      <td>244.00</td>\n",
       "      <td>292.0</td>\n",
       "    </tr>\n",
       "    <tr>\n",
       "      <th rowspan=\"2\" valign=\"top\">0.7</th>\n",
       "      <th>0.3</th>\n",
       "      <th>0.3</th>\n",
       "      <td>2.0</td>\n",
       "      <td>113.500000</td>\n",
       "      <td>91.216775</td>\n",
       "      <td>49.0</td>\n",
       "      <td>81.25</td>\n",
       "      <td>113.5</td>\n",
       "      <td>145.75</td>\n",
       "      <td>178.0</td>\n",
       "    </tr>\n",
       "    <tr>\n",
       "      <th>0.7</th>\n",
       "      <th>0.3</th>\n",
       "      <td>2.0</td>\n",
       "      <td>434.000000</td>\n",
       "      <td>60.811183</td>\n",
       "      <td>391.0</td>\n",
       "      <td>412.50</td>\n",
       "      <td>434.0</td>\n",
       "      <td>455.50</td>\n",
       "      <td>477.0</td>\n",
       "    </tr>\n",
       "    <tr>\n",
       "      <th rowspan=\"4\" valign=\"top\">300</th>\n",
       "      <th rowspan=\"2\" valign=\"top\">0.3</th>\n",
       "      <th>0.3</th>\n",
       "      <th>0.3</th>\n",
       "      <td>2.0</td>\n",
       "      <td>194.500000</td>\n",
       "      <td>126.572114</td>\n",
       "      <td>105.0</td>\n",
       "      <td>149.75</td>\n",
       "      <td>194.5</td>\n",
       "      <td>239.25</td>\n",
       "      <td>284.0</td>\n",
       "    </tr>\n",
       "    <tr>\n",
       "      <th>0.7</th>\n",
       "      <th>0.3</th>\n",
       "      <td>10.0</td>\n",
       "      <td>192.100000</td>\n",
       "      <td>91.840986</td>\n",
       "      <td>86.0</td>\n",
       "      <td>111.25</td>\n",
       "      <td>161.5</td>\n",
       "      <td>292.50</td>\n",
       "      <td>299.0</td>\n",
       "    </tr>\n",
       "    <tr>\n",
       "      <th rowspan=\"2\" valign=\"top\">0.7</th>\n",
       "      <th>0.3</th>\n",
       "      <th>0.3</th>\n",
       "      <td>9.0</td>\n",
       "      <td>232.222222</td>\n",
       "      <td>131.824483</td>\n",
       "      <td>74.0</td>\n",
       "      <td>102.00</td>\n",
       "      <td>295.0</td>\n",
       "      <td>351.00</td>\n",
       "      <td>380.0</td>\n",
       "    </tr>\n",
       "    <tr>\n",
       "      <th>0.7</th>\n",
       "      <th>0.3</th>\n",
       "      <td>6.0</td>\n",
       "      <td>184.166667</td>\n",
       "      <td>212.835539</td>\n",
       "      <td>3.0</td>\n",
       "      <td>22.75</td>\n",
       "      <td>107.5</td>\n",
       "      <td>298.75</td>\n",
       "      <td>530.0</td>\n",
       "    </tr>\n",
       "  </tbody>\n",
       "</table>\n",
       "</div>"
      ],
      "text/plain": [
       "                       count        mean         std    min     25%    50%  \\\n",
       "mu  cxpb mupb muidxpb                                                        \n",
       "100 0.3  0.3  0.3        7.0  365.142857  272.900732   37.0  169.00  313.0   \n",
       "         0.7  0.3        4.0  203.750000   70.636983  136.0  153.25  193.5   \n",
       "    0.7  0.3  0.3        2.0  113.500000   91.216775   49.0   81.25  113.5   \n",
       "         0.7  0.3        2.0  434.000000   60.811183  391.0  412.50  434.0   \n",
       "300 0.3  0.3  0.3        2.0  194.500000  126.572114  105.0  149.75  194.5   \n",
       "         0.7  0.3       10.0  192.100000   91.840986   86.0  111.25  161.5   \n",
       "    0.7  0.3  0.3        9.0  232.222222  131.824483   74.0  102.00  295.0   \n",
       "         0.7  0.3        6.0  184.166667  212.835539    3.0   22.75  107.5   \n",
       "\n",
       "                          75%    max  \n",
       "mu  cxpb mupb muidxpb                 \n",
       "100 0.3  0.3  0.3      537.50  793.0  \n",
       "         0.7  0.3      244.00  292.0  \n",
       "    0.7  0.3  0.3      145.75  178.0  \n",
       "         0.7  0.3      455.50  477.0  \n",
       "300 0.3  0.3  0.3      239.25  284.0  \n",
       "         0.7  0.3      292.50  299.0  \n",
       "    0.7  0.3  0.3      351.00  380.0  \n",
       "         0.7  0.3      298.75  530.0  "
      ]
     },
     "execution_count": 6,
     "metadata": {},
     "output_type": "execute_result"
    }
   ],
   "source": [
    "# Geração final a atingir sucesso\n",
    "a[a['Sucesso']==1].groupby(['mu','cxpb','mupb','muidxpb'])['Geração final'].describe()"
   ]
  },
  {
   "cell_type": "markdown",
   "id": "2c509e39-df34-40b4-a48a-a2a0d52afb31",
   "metadata": {},
   "source": [
    "# Teste do SGA"
   ]
  },
  {
   "cell_type": "code",
   "execution_count": 7,
   "id": "4fbf6651-1b3b-49fa-bb8f-7033c09c7081",
   "metadata": {},
   "outputs": [],
   "source": [
    "from generate_tsp import GerarProblemaRadialTSP\n",
    "from sga import SGAPermutacao, SGAInteiroLimitado\n"
   ]
  },
  {
   "cell_type": "code",
   "execution_count": 8,
   "id": "897b8f6e-5146-47ce-becb-825d614556e0",
   "metadata": {},
   "outputs": [],
   "source": [
    "posicoes = GerarProblemaRadialTSP(20)"
   ]
  },
  {
   "cell_type": "code",
   "execution_count": null,
   "id": "7c3930a6-8419-4230-91f9-ea443d662bd6",
   "metadata": {},
   "outputs": [],
   "source": [
    "params = {\n",
    "    \"N\":5000,\n",
    "    \"P\":posicoes.shape[1],\n",
    "    \"mu\":1000,\n",
    "    \"cxpb\": 0.7,\n",
    "    \"mupb\":0.3,\n",
    "    \"muidxpb\":0.3\n",
    "}\n",
    "\n",
    "pop,stats,hof,params,custo = SGAInteiroLimitado(posicoes,params)"
   ]
  },
  {
   "cell_type": "code",
   "execution_count": null,
   "id": "1e83be04-5997-468d-aec5-85ba2d8e98c7",
   "metadata": {},
   "outputs": [],
   "source": [
    "hof[0]"
   ]
  },
  {
   "cell_type": "code",
   "execution_count": null,
   "id": "d6e52f8f-762f-4f48-a7c6-f823aec01f48",
   "metadata": {},
   "outputs": [],
   "source": [
    "from visualizacoes import PlotResultado\n",
    "import numpy as np"
   ]
  },
  {
   "cell_type": "code",
   "execution_count": null,
   "id": "f1036691-a7fd-4f81-8f5e-97a954628e47",
   "metadata": {},
   "outputs": [],
   "source": [
    "PlotResultado(np.array(hof[0]),posicoes)"
   ]
  },
  {
   "cell_type": "code",
   "execution_count": null,
   "id": "345370ee-2080-44bd-9102-4e6b2ae6fdb3",
   "metadata": {},
   "outputs": [],
   "source": [
    "gen, minGap, avg, std = stats.select(\"gen\",'minGap','mean','std')"
   ]
  },
  {
   "cell_type": "code",
   "execution_count": null,
   "id": "3f115375-1aa8-4487-b3b3-b3756e8ef161",
   "metadata": {},
   "outputs": [],
   "source": [
    "import matplotlib.pyplot as plt\n",
    "plt.plot(std)\n",
    "plt.show()"
   ]
  },
  {
   "cell_type": "code",
   "execution_count": null,
   "id": "97c06436-b1c3-4d06-8521-47f47fb16536",
   "metadata": {},
   "outputs": [],
   "source": []
  }
 ],
 "metadata": {
  "kernelspec": {
   "display_name": "Python 3 (ipykernel)",
   "language": "python",
   "name": "python3"
  },
  "language_info": {
   "codemirror_mode": {
    "name": "ipython",
    "version": 3
   },
   "file_extension": ".py",
   "mimetype": "text/x-python",
   "name": "python",
   "nbconvert_exporter": "python",
   "pygments_lexer": "ipython3",
   "version": "3.12.3"
  }
 },
 "nbformat": 4,
 "nbformat_minor": 5
}
